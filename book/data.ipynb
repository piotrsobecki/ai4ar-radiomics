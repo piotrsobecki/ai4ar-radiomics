{
 "cells": [
  {
   "attachments": {},
   "cell_type": "markdown",
   "metadata": {},
   "source": [
    "# Data visualisation\n",
    "\n",
    "\n",
    "We will be visualizing the collected data in the AI4AR study.\n",
    "\n",
    "Our data consists of mpMRI images and annotations prepared by three radiologists, as well as clinical information and biopsy results with International Society of Urological Pathology (ISUP) Gleason grading for each lesion. The radiologists annotated the data with multiple imaging features for each lesion, using the assessment algorithm from the PI-RADS standard.\n",
    "\n",
    "In order to gain a better understanding of the data and to identify any potential trends or patterns, we will be creating a variety of visualizations. These visualizations will include:\n",
    "- Descriptive statistics: We will use histograms, box plots, and summary statistics to get a sense of the distribution and range of values for each of the variables in the dataset.\n",
    "- Correlation plots: We will use scatter plots and heatmaps to investigate the relationships between different variables, such as the imaging features and the Gleason grade.\n",
    "- Data distributions: We will use density plots and violin plots to visualize the distribution of values for each of the variables.\n",
    "- Data comparisons: We will use bar plots, line plots, and box plots to compare the values of different variables across different groups or categories.\n",
    "\n",
    "In selecting appropriate data visualization methods, we will consider the type of data (categorical or continuous), the number of variables being plotted, and the intended audience.\n",
    "\n",
    "Let's begin by importing the necessary libraries and loading the data."
   ]
  },
  {
   "cell_type": "code",
   "execution_count": null,
   "metadata": {},
   "outputs": [],
   "source": []
  }
 ],
 "metadata": {
  "kernelspec": {
   "display_name": "ai4ar-radiomics-env",
   "language": "python",
   "name": "python3"
  },
  "language_info": {
   "codemirror_mode": {
    "name": "ipython",
    "version": 3
   },
   "file_extension": ".py",
   "mimetype": "text/x-python",
   "name": "python",
   "nbconvert_exporter": "python",
   "pygments_lexer": "ipython3",
   "version": "3.9.13 (main, Aug 25 2022, 23:51:50) [MSC v.1916 64 bit (AMD64)]"
  },
  "vscode": {
   "interpreter": {
    "hash": "0bcdd66861654d4571c660ddec31ff9a322200a08f4273901ff51f00906f1ba8"
   }
  },
  "widgets": {
   "application/vnd.jupyter.widget-state+json": {
    "state": {},
    "version_major": 2,
    "version_minor": 0
   }
  }
 },
 "nbformat": 4,
 "nbformat_minor": 4
}
