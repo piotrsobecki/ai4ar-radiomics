{
 "cells": [
  {
   "attachments": {},
   "cell_type": "markdown",
   "metadata": {},
   "source": [
    "# Radiomics Features Extraction\n",
    "\n",
    "In this notebook, we will be extracting radiomics features for prostate lesions on all mpMRI modalities. These lesions have been manually segmented by radiologists, and we will be using separate settings for each feature extractor.\n",
    "\n",
    "Radiomics is the process of extracting quantitative features from medical imaging data. These features can provide important information about the characteristics of a lesion, and can be used for a variety of purposes, including diagnosis, prognosis, and treatment planning.\n",
    "\n",
    "Before we begin, it's important to note that the process of extracting radiomics features can be computationally intensive, so please be patient as the scripts in this notebook run.\n",
    "\n",
    "Now, let's get started by setting up our environment and importing the necessary libraries.\n",
    "\n"
   ]
  },
  {
   "cell_type": "code",
   "execution_count": 1,
   "metadata": {},
   "outputs": [
    {
     "ename": "ModuleNotFoundError",
     "evalue": "No module named 'extractor_utils'",
     "output_type": "error",
     "traceback": [
      "\u001b[1;31m---------------------------------------------------------------------------\u001b[0m",
      "\u001b[1;31mModuleNotFoundError\u001b[0m                       Traceback (most recent call last)",
      "\u001b[1;32m~\\AppData\\Local\\Temp\\ipykernel_20760\\3802726735.py\u001b[0m in \u001b[0;36m<module>\u001b[1;34m\u001b[0m\n\u001b[0;32m      1\u001b[0m \u001b[1;32mimport\u001b[0m \u001b[0mai4ar\u001b[0m \u001b[1;31m# AI4AR Helper package\u001b[0m\u001b[1;33m\u001b[0m\u001b[1;33m\u001b[0m\u001b[0m\n\u001b[1;32m----> 2\u001b[1;33m \u001b[1;32mfrom\u001b[0m \u001b[0mextractor_utils\u001b[0m \u001b[1;32mimport\u001b[0m \u001b[0mconstruct_feature_extractor\u001b[0m\u001b[1;33m,\u001b[0m \u001b[0mextract\u001b[0m \u001b[1;31m# Extractor utils from src folder\u001b[0m\u001b[1;33m\u001b[0m\u001b[1;33m\u001b[0m\u001b[0m\n\u001b[0m\u001b[0;32m      3\u001b[0m \u001b[1;33m\u001b[0m\u001b[0m\n\u001b[0;32m      4\u001b[0m \u001b[1;32mimport\u001b[0m \u001b[0mpandas\u001b[0m \u001b[1;32mas\u001b[0m \u001b[0mpd\u001b[0m \u001b[1;31m# For saving the features\u001b[0m\u001b[1;33m\u001b[0m\u001b[1;33m\u001b[0m\u001b[0m\n\u001b[0;32m      5\u001b[0m \u001b[1;33m\u001b[0m\u001b[0m\n",
      "\u001b[1;31mModuleNotFoundError\u001b[0m: No module named 'extractor_utils'"
     ]
    }
   ],
   "source": [
    "import ai4ar # AI4AR Helper package\n",
    "from extractor_utils import construct_feature_extractor, extract # Extractor utils from src folder\n",
    "\n",
    "import pandas as pd # For saving the features\n",
    "\n",
    "import sys \n",
    "import os \n",
    "from config import config # For reading the config files"
   ]
  },
  {
   "cell_type": "code",
   "execution_count": null,
   "metadata": {},
   "outputs": [],
   "source": [
    "# Setup the notebook\n",
    "%load_ext autoreload\n",
    "%autoreload 2\n",
    "\n",
    "# Add src to path\n",
    "\n",
    "if os.path.basename(os.getcwd()) != 'ai4ar-radiomics':\n",
    "    os.chdir('..')\n",
    "\n",
    "if 'src' not in sys.path:\n",
    "    sys.path.append('src')\n",
    "\n",
    "cfg = config(\n",
    "    ('json', 'config/config.json', True),\n",
    "    ('json', 'config/config-ext.json', True), \n",
    "    ('json', 'config/radiomics-test.json', True), \n",
    "    ignore_missing_paths = True\n",
    ")"
   ]
  },
  {
   "attachments": {},
   "cell_type": "markdown",
   "metadata": {},
   "source": [
    "## Dataset initialization"
   ]
  },
  {
   "cell_type": "code",
   "execution_count": null,
   "metadata": {},
   "outputs": [],
   "source": [
    "dataset = ai4ar.Dataset(cfg['data_dir'])"
   ]
  },
  {
   "cell_type": "code",
   "execution_count": null,
   "metadata": {},
   "outputs": [],
   "source": [
    "# Clinical metadata\n",
    "dataset[dataset.case_ids[0]].clinical_metadata()"
   ]
  },
  {
   "cell_type": "code",
   "execution_count": null,
   "metadata": {},
   "outputs": [],
   "source": [
    "# Radiological metadata\n",
    "dataset[dataset.case_ids[0]].radiological_metadata()"
   ]
  },
  {
   "attachments": {},
   "cell_type": "markdown",
   "metadata": {},
   "source": [
    "## Feature Extraction"
   ]
  },
  {
   "attachments": {},
   "cell_type": "markdown",
   "metadata": {},
   "source": [
    "### Construct the extractors\n",
    "\n",
    "Extractors are created based on the config/radiomics-test.json configuration"
   ]
  },
  {
   "cell_type": "code",
   "execution_count": null,
   "metadata": {},
   "outputs": [],
   "source": [
    "\n",
    "# Possible feature class names =  ['firstorder', 'glcm', 'gldm', 'glrlm', 'glszm', 'ngtdm', 'shape', 'shape2D']\n",
    "\n",
    "extractors = {}\n",
    "\n",
    "for modality in cfg['radiomics.settings.extractor'].keys():\n",
    "    extractors[modality] = construct_feature_extractor(cfg['radiomics.settings.extractor'][modality])\n"
   ]
  },
  {
   "attachments": {},
   "cell_type": "markdown",
   "metadata": {},
   "source": [
    "### Extract the radiomics feature\n",
    "\n",
    "Create the jobs (copies of radiological_metadata dataframe) with info about proper mask and image paths"
   ]
  },
  {
   "cell_type": "code",
   "execution_count": null,
   "metadata": {},
   "outputs": [],
   "source": [
    "\n",
    "jobs_dfs = {}\n",
    "\n",
    "# Create jobs for modalities in the dataset with proper extractor and store them in a dictionary of dataframes\n",
    "for modality in extractors.keys():    \n",
    "    # Create a dataframe with the jobs for this modality\n",
    "    jobs_dfs[modality] = dataset.radiological_metadata[['patient_id', 'lesion_id', 'radiologist_id', 'label_'+modality]].copy()\n",
    "    # Rename the label column to mask_path \n",
    "    jobs_dfs[modality].rename(columns={'label_'+modality: 'mask_path'}, inplace=True)\n",
    "    # Add the data path column\n",
    "    jobs_dfs[modality]['data_path'] = 'data/'+modality\n",
    "    \n",
    "    # Drop rows with no mask\n",
    "    jobs_dfs[modality].dropna(subset=['mask_path'], inplace=True)\n",
    "    \n",
    "    # If dataset is empty, remove it\n",
    "    if jobs_dfs[modality].empty:\n",
    "        del jobs_dfs[modality]\n",
    "        continue\n"
   ]
  },
  {
   "attachments": {},
   "cell_type": "markdown",
   "metadata": {},
   "source": [
    "Extract the features and dump the results for each modality to the tmp dir"
   ]
  },
  {
   "cell_type": "code",
   "execution_count": null,
   "metadata": {},
   "outputs": [],
   "source": [
    "# Target directory for the features\n",
    "floc_dir = os.path.join('.', dataset.tmp_dir)\n",
    "\n",
    "for modality, jobs_df in jobs_dfs.items():\n",
    "    floc = os.path.join(floc_dir, f'radiomics_{modality}.csv')\n",
    "    \n",
    "    if not os.path.exists(floc):\n",
    "        print(f'Extracting features for {modality}')\n",
    "        features = extract(dataset, extractors[modality], jobs_df, n_jobs=4)\n",
    "        print(f'Features for {modality} extracted, saving')\n",
    "        \n",
    "        # Save the not none features\n",
    "        pd.DataFrame([f for f in features if f is not None]).to_csv(floc, index=False)\n",
    "        \n",
    "        # Report the number of cases with no features\n",
    "        print('Failed features')\n",
    "        print(jobs_df.loc[[f is None for f in features]][['patient_id', 'lesion_id', 'radiologist_id']])\n",
    "    else:\n",
    "        print(f'Features for {modality} already extracted, skipping')\n",
    "        "
   ]
  },
  {
   "cell_type": "code",
   "execution_count": null,
   "metadata": {},
   "outputs": [],
   "source": [
    "import pandas as pd\n",
    "# Visualize features \n",
    "\n",
    "\n",
    "pd.read_csv(os.path.join(dataset.tmp_dir, 'radiomics_t2w.csv')).head()"
   ]
  },
  {
   "cell_type": "code",
   "execution_count": null,
   "metadata": {},
   "outputs": [],
   "source": []
  }
 ],
 "metadata": {
  "kernelspec": {
   "display_name": "ai4ar-radiomics-env",
   "language": "python",
   "name": "python3"
  },
  "language_info": {
   "codemirror_mode": {
    "name": "ipython",
    "version": 3
   },
   "file_extension": ".py",
   "mimetype": "text/x-python",
   "name": "python",
   "nbconvert_exporter": "python",
   "pygments_lexer": "ipython3",
   "version": "3.7.15"
  },
  "orig_nbformat": 4,
  "vscode": {
   "interpreter": {
    "hash": "0bcdd66861654d4571c660ddec31ff9a322200a08f4273901ff51f00906f1ba8"
   }
  }
 },
 "nbformat": 4,
 "nbformat_minor": 2
}
