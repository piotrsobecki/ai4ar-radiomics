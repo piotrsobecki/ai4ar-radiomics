{
 "cells": [
  {
   "cell_type": "code",
   "execution_count": 4,
   "metadata": {},
   "outputs": [
    {
     "name": "stdout",
     "output_type": "stream",
     "text": [
      "Looking in indexes: https://pypi.org/simple, https://pypi.ngc.nvidia.com\n",
      "Collecting sharepy\n",
      "  Downloading sharepy-2.0.0.tar.gz (23 kB)\n",
      "  Preparing metadata (setup.py): started\n",
      "  Preparing metadata (setup.py): finished with status 'done'\n",
      "Collecting requests<3,>=2\n",
      "  Downloading requests-2.28.1-py3-none-any.whl (62 kB)\n",
      "     ---------------------------------------- 62.8/62.8 KB 1.7 MB/s eta 0:00:00\n",
      "Collecting idna<4,>=2.5\n",
      "  Downloading idna-3.4-py3-none-any.whl (61 kB)\n",
      "     ---------------------------------------- 61.5/61.5 KB ? eta 0:00:00\n",
      "Collecting charset-normalizer<3,>=2\n",
      "  Downloading charset_normalizer-2.1.1-py3-none-any.whl (39 kB)\n",
      "Collecting urllib3<1.27,>=1.21.1\n",
      "  Downloading urllib3-1.26.13-py2.py3-none-any.whl (140 kB)\n",
      "     -------------------------------------- 140.6/140.6 KB 4.2 MB/s eta 0:00:00\n",
      "Collecting certifi>=2017.4.17\n",
      "  Downloading certifi-2022.12.7-py3-none-any.whl (155 kB)\n",
      "     ---------------------------------------- 155.3/155.3 KB ? eta 0:00:00\n",
      "Using legacy 'setup.py install' for sharepy, since package 'wheel' is not installed.\n",
      "Installing collected packages: urllib3, idna, charset-normalizer, certifi, requests, sharepy\n",
      "  Running setup.py install for sharepy: started\n",
      "  Running setup.py install for sharepy: finished with status 'done'\n",
      "Successfully installed certifi-2022.12.7 charset-normalizer-2.1.1 idna-3.4 requests-2.28.1 sharepy-2.0.0 urllib3-1.26.13\n"
     ]
    },
    {
     "name": "stderr",
     "output_type": "stream",
     "text": [
      "WARNING: You are using pip version 22.0.4; however, version 22.3.1 is available.\n",
      "You should consider upgrading via the 'D:\\workspace\\ai4ar-radiomics\\ai4ar-radiomics-env\\Scripts\\python.exe -m pip install --upgrade pip' command.\n"
     ]
    }
   ],
   "source": [
    "!pip install sharepy"
   ]
  },
  {
   "cell_type": "code",
   "execution_count": 1,
   "metadata": {},
   "outputs": [],
   "source": [
    "import json"
   ]
  },
  {
   "cell_type": "code",
   "execution_count": 2,
   "metadata": {},
   "outputs": [],
   "source": [
    "# Load json config file and extension\n",
    "\n",
    "with open('../config/config.json') as json_file:\n",
    "    config = json.load(json_file)\n",
    "\n",
    "# Load the extension\n",
    "with open('../config/config-ext.json') as json_file:\n",
    "    extension = json.load(json_file)\n",
    "    \n",
    "    \n",
    "config = {**config, **extension}"
   ]
  },
  {
   "cell_type": "code",
   "execution_count": 3,
   "metadata": {},
   "outputs": [
    {
     "data": {
      "text/plain": [
       "{'data_url': 'https://opiorgpl-my.sharepoint.com/personal/jakub_mitura_opi_org_pl/_layouts/15/onedrive.aspx?id=%2Fpersonal%2Fjakub%5Fmitura%5Fopi%5Forg%5Fpl%2FDocuments%2Fprostate503&ga=1'}"
      ]
     },
     "execution_count": 3,
     "metadata": {},
     "output_type": "execute_result"
    }
   ],
   "source": [
    "config"
   ]
  },
  {
   "cell_type": "code",
   "execution_count": null,
   "metadata": {},
   "outputs": [],
   "source": [
    "import sharepy as s\n",
    "\n",
    "\n",
    "site = r''https://opiorgpl-my.sharepoint.com/'\n",
    "path = r'/some-site/Documents/Folder1/Folder2/Folder3/\n",
    "\n",
    "# Get list of all files and folders in library\n",
    "files = s.get(\"{}/_api/web/lists/GetByTitle('{}')/items?$select=FileLeafRef,FileRef\"\n",
    "          .format(site, library)).json()[\"d\"][\"results\"]"
   ]
  }
 ],
 "metadata": {
  "kernelspec": {
   "display_name": "ai4ar-radiomics-env",
   "language": "python",
   "name": "python3"
  },
  "language_info": {
   "codemirror_mode": {
    "name": "ipython",
    "version": 3
   },
   "file_extension": ".py",
   "mimetype": "text/x-python",
   "name": "python",
   "nbconvert_exporter": "python",
   "pygments_lexer": "ipython3",
   "version": "3.9.13"
  },
  "orig_nbformat": 4,
  "vscode": {
   "interpreter": {
    "hash": "0bcdd66861654d4571c660ddec31ff9a322200a08f4273901ff51f00906f1ba8"
   }
  }
 },
 "nbformat": 4,
 "nbformat_minor": 2
}
