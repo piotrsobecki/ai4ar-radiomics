{
 "cells": [
  {
   "attachments": {},
   "cell_type": "markdown",
   "metadata": {},
   "source": [
    "# Predictive models for clinical significance"
   ]
  },
  {
   "attachments": {},
   "cell_type": "markdown",
   "metadata": {},
   "source": [
    "We will be exploring the use of radiomics for predicting the clinical significance of prostate lesions on mpMRI images.\n",
    "\n",
    "Our data consists of mpMRI images and annotations prepared by three radiologists, as well as clinical information and biopsy results with International Society of Urological Pathology (ISUP) Gleason grading for each lesion. The radiologists annotated the data with multiple imaging features for each lesion, using the assessment algorithm from the PI-RADS standard.\n",
    "\n",
    "To verify the hypotheses, we will be using a supervised learning algorithm to train a model on the mpMRI images and the biopsy results. We will extract the radiomics features using a dedicated library that calculates features based on the intensity, texture, and shape of the lesions. We will then use cross-validation to assess the performance of the model, and visualize the results using a receiver operating characteristic (ROC) curve.\n",
    "\n",
    "Let's begin by importing the necessary libraries and loading the data."
   ]
  },
  {
   "cell_type": "code",
   "execution_count": null,
   "metadata": {},
   "outputs": [],
   "source": []
  }
 ],
 "metadata": {
  "kernelspec": {
   "display_name": "ai4ar-radiomics-env",
   "language": "python",
   "name": "python3"
  },
  "language_info": {
   "codemirror_mode": {
    "name": "ipython",
    "version": 3
   },
   "file_extension": ".py",
   "mimetype": "text/x-python",
   "name": "python",
   "nbconvert_exporter": "python",
   "pygments_lexer": "ipython3",
   "version": "3.9.13 (main, Aug 25 2022, 23:51:50) [MSC v.1916 64 bit (AMD64)]"
  },
  "vscode": {
   "interpreter": {
    "hash": "0bcdd66861654d4571c660ddec31ff9a322200a08f4273901ff51f00906f1ba8"
   }
  },
  "widgets": {
   "application/vnd.jupyter.widget-state+json": {
    "state": {},
    "version_major": 2,
    "version_minor": 0
   }
  }
 },
 "nbformat": 4,
 "nbformat_minor": 4
}
