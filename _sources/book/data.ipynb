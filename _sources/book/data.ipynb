{
 "cells": [
  {
   "attachments": {},
   "cell_type": "markdown",
   "metadata": {},
   "source": [
    "# Data visualisation\n",
    "\n",
    "\n",
    "We will be visualizing the collected data in the AI4AR study.\n",
    "\n",
    "Our data consists of mpMRI images and annotations prepared by three radiologists, as well as clinical information and biopsy results with International Society of Urological Pathology (ISUP) Gleason grading for each lesion. The radiologists annotated the data with multiple imaging features for each lesion, using the assessment algorithm from the PI-RADS standard.\n",
    "\n",
    "In order to gain a better understanding of the data and to identify any potential trends or patterns, we will be creating a variety of visualizations. These visualizations will include:\n",
    "- Descriptive statistics: We will use histograms, box plots, and summary statistics to get a sense of the distribution and range of values for each of the variables in the dataset.\n",
    "- Correlation plots: We will use scatter plots and heatmaps to investigate the relationships between different variables, such as the imaging features and the Gleason grade.\n",
    "- Data distributions: We will use density plots and violin plots to visualize the distribution of values for each of the variables.\n",
    "- Data comparisons: We will use bar plots, line plots, and box plots to compare the values of different variables across different groups or categories.\n",
    "\n",
    "In selecting appropriate data visualization methods, we will consider the type of data (categorical or continuous), the number of variables being plotted, and the intended audience.\n",
    "\n",
    "Let's begin by importing the necessary libraries and loading the data."
   ]
  },
  {
   "cell_type": "code",
   "execution_count": 3,
   "metadata": {},
   "outputs": [],
   "source": [
    "#!pip install --upgrade -e git+https://github.com/piotrsobecki/ai4ar-helper.git#egg=ai4ar"
   ]
  },
  {
   "cell_type": "code",
   "execution_count": 4,
   "metadata": {},
   "outputs": [
    {
     "name": "stdout",
     "output_type": "stream",
     "text": [
      "The autoreload extension is already loaded. To reload it, use:\n",
      "  %reload_ext autoreload\n"
     ]
    }
   ],
   "source": [
    "# Setup the notebook\n",
    "%load_ext autoreload\n",
    "%autoreload 2\n",
    "\n",
    "# Add src to path\n",
    "import sys \n",
    "import os \n",
    "\n",
    "if os.path.basename(os.getcwd()) != 'ai4ar-radiomics':\n",
    "    os.chdir('..')\n",
    "\n",
    "if 'src' not in sys.path:\n",
    "    sys.path.append('src')\n",
    "\n",
    "\n",
    "from config import config # For reading the config files\n",
    "\n",
    "cfg = config(\n",
    "    ('json', 'config/config.json', True),\n",
    "    ('json', 'config/config-ext.json', True),\n",
    "    ignore_missing_paths = True\n",
    ")"
   ]
  },
  {
   "attachments": {},
   "cell_type": "markdown",
   "metadata": {},
   "source": [
    "# AI4AR Helper package"
   ]
  },
  {
   "cell_type": "code",
   "execution_count": 5,
   "metadata": {},
   "outputs": [],
   "source": [
    "import ai4ar"
   ]
  },
  {
   "attachments": {},
   "cell_type": "markdown",
   "metadata": {},
   "source": [
    "### Visualize data for the single case\n",
    "\n",
    "On DataSet init, the images are not loaded"
   ]
  },
  {
   "cell_type": "code",
   "execution_count": 6,
   "metadata": {},
   "outputs": [
    {
     "ename": "TypeError",
     "evalue": "'function' object is not subscriptable",
     "output_type": "error",
     "traceback": [
      "\u001b[1;31m---------------------------------------------------------------------------\u001b[0m",
      "\u001b[1;31mTypeError\u001b[0m                                 Traceback (most recent call last)",
      "\u001b[1;32m~\\AppData\\Local\\Temp\\ipykernel_20724\\1025938107.py\u001b[0m in \u001b[0;36m<module>\u001b[1;34m\u001b[0m\n\u001b[1;32m----> 1\u001b[1;33m \u001b[0mdataset\u001b[0m \u001b[1;33m=\u001b[0m \u001b[0mai4ar\u001b[0m\u001b[1;33m.\u001b[0m\u001b[0mDataset\u001b[0m\u001b[1;33m(\u001b[0m\u001b[0mconfig\u001b[0m\u001b[1;33m[\u001b[0m\u001b[1;34m'data_dir'\u001b[0m\u001b[1;33m]\u001b[0m\u001b[1;33m)\u001b[0m\u001b[1;33m\u001b[0m\u001b[1;33m\u001b[0m\u001b[0m\n\u001b[0m",
      "\u001b[1;31mTypeError\u001b[0m: 'function' object is not subscriptable"
     ]
    }
   ],
   "source": [
    "dataset = ai4ar.Dataset(cfg['data_dir'])"
   ]
  },
  {
   "cell_type": "code",
   "execution_count": null,
   "metadata": {},
   "outputs": [],
   "source": [
    "dataset.case_ids"
   ]
  },
  {
   "cell_type": "code",
   "execution_count": null,
   "metadata": {},
   "outputs": [],
   "source": [
    "case = dataset['001']\n",
    "case.images_keys() # All images for the case"
   ]
  },
  {
   "attachments": {},
   "cell_type": "markdown",
   "metadata": {},
   "source": [
    "# Visualize single image\n",
    "\n",
    "Images are cached after first access"
   ]
  },
  {
   "cell_type": "code",
   "execution_count": null,
   "metadata": {},
   "outputs": [],
   "source": [
    "import matplotlib.pyplot as plt\n",
    "\n",
    "# T2W image\n",
    "t2w_img = case.image('data/t2w') \n",
    "# Combined lesion annotations\n",
    "combined_t2w_mask_img = case.image('lesion_labels/lesion1/t2w', combine=True, cache=False, combine_pp = ai4ar.required_agreement(1)) \n",
    "\n",
    "t2w = t2w_img.arr()\n",
    "combined_t2w_mask = combined_t2w_mask_img.arr()\n",
    "\n",
    "# Select the max slice (biggest mask)\n",
    "slice = ai4ar.select_slice(combined_t2w_mask)\n",
    "\n",
    "# Show the combined mask on top of the image and the original image on left \n",
    "fig, ax = plt.subplots(1, 2, figsize=(10, 5))\n",
    "ax[0].imshow(t2w[slice], cmap='gray')\n",
    "ax[1].imshow(t2w[slice], cmap='gray')\n",
    "\n",
    "# Show the combined mask on top of the image and the original image on left \n",
    "# The mask is shown in red and the image in grayscale, with the mask being semi-transparent but the 0 values are not shown and do not affect the underlying image\n",
    "ax[1].imshow(combined_t2w_mask[slice], cmap='jet', alpha=0.5, interpolation='none', aspect='auto')\n",
    "\n",
    "# ax[1].imshow(combined_t2w_mask[slice], cmap='jet', alpha=0.5)\n",
    "\n",
    "# Hide the axis labels\n",
    "ax[0].axis('off')\n",
    "ax[1].axis('off')\n",
    "\n",
    "fig.tight_layout()\n",
    "fig.show()"
   ]
  },
  {
   "attachments": {},
   "cell_type": "markdown",
   "metadata": {},
   "source": [
    "# Combine lesion mask\n",
    "\n",
    "Sum all annotations for lesion1 on t2w image. It's the same for other modalities"
   ]
  },
  {
   "cell_type": "code",
   "execution_count": null,
   "metadata": {},
   "outputs": [],
   "source": [
    "import matplotlib.pyplot as plt\n",
    "\n",
    "combined_t2w_mask = case.image('lesion_labels/lesion1/t2w', combine=True)\n",
    "combined_t2w_mask = combined_t2w_mask.arr()\n",
    "# Visualize the combined mask (select_slice is a helper function to select the slice with the most mask)\n",
    "plt.imshow(combined_t2w_mask[ai4ar.select_slice(combined_t2w_mask)], cmap='gray')\n"
   ]
  },
  {
   "attachments": {},
   "cell_type": "markdown",
   "metadata": {},
   "source": [
    "Now it's cached"
   ]
  },
  {
   "cell_type": "code",
   "execution_count": null,
   "metadata": {},
   "outputs": [],
   "source": [
    "case.visualize('combined/')"
   ]
  },
  {
   "attachments": {},
   "cell_type": "markdown",
   "metadata": {},
   "source": [
    "# Visualize all images"
   ]
  },
  {
   "cell_type": "code",
   "execution_count": null,
   "metadata": {},
   "outputs": [],
   "source": [
    "case.visualize('anatomical_labels/')"
   ]
  },
  {
   "cell_type": "code",
   "execution_count": null,
   "metadata": {},
   "outputs": [],
   "source": [
    "case.visualize('data/')"
   ]
  },
  {
   "cell_type": "code",
   "execution_count": null,
   "metadata": {},
   "outputs": [],
   "source": [
    "case.visualize('lesion_labels/')"
   ]
  },
  {
   "cell_type": "code",
   "execution_count": null,
   "metadata": {},
   "outputs": [],
   "source": []
  }
 ],
 "metadata": {
  "kernelspec": {
   "display_name": "ai4ar-radiomics-env",
   "language": "python",
   "name": "python3"
  },
  "language_info": {
   "codemirror_mode": {
    "name": "ipython",
    "version": 3
   },
   "file_extension": ".py",
   "mimetype": "text/x-python",
   "name": "python",
   "nbconvert_exporter": "python",
   "pygments_lexer": "ipython3",
   "version": "3.7.15"
  },
  "orig_nbformat": 4,
  "vscode": {
   "interpreter": {
    "hash": "0bcdd66861654d4571c660ddec31ff9a322200a08f4273901ff51f00906f1ba8"
   }
  }
 },
 "nbformat": 4,
 "nbformat_minor": 2
}
